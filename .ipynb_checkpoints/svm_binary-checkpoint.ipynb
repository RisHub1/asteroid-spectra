{
 "cells": [
  {
   "cell_type": "code",
   "execution_count": 40,
   "id": "9a46ea22-051f-4267-85da-69220685e128",
   "metadata": {},
   "outputs": [],
   "source": [
    "import numpy as np\n",
    "import pandas as pd \n",
    "import sklearn"
   ]
  },
  {
   "cell_type": "code",
   "execution_count": 41,
   "id": "91627990-c824-469f-95c8-cc44c41455d4",
   "metadata": {},
   "outputs": [],
   "source": [
    "# We first modify the data to create a binary classification system\n",
    "asteroids_df = pd.read_pickle(\"data/lvl2/asteroids.pkl\")\n",
    "asteroids_df.loc[:, \"Class\"] = asteroids_df[\"Main_Group\"].apply(lambda x: 1 if x == \"X\" else 0)\n",
    "\n",
    "# Separate the spectra and class into numpy arrays\n",
    "asteroids_X = np.vstack([k[\"Reflectance_norm550nm\"].to_numpy() for k in asteroids_df[\"SpectrumDF\"]])\n",
    "asteroids_Y = asteroids_df[\"Class\"].to_numpy()"
   ]
  },
  {
   "cell_type": "code",
   "execution_count": 50,
   "id": "4b6c7422-06b1-4ffa-a1bb-89623a77cca6",
   "metadata": {},
   "outputs": [
    {
     "name": "stdout",
     "output_type": "stream",
     "text": [
      "5\n"
     ]
    }
   ],
   "source": [
    "# Split the data into training and test samples \n",
    "from sklearn.model_selection import StratifiedShuffleSplit\n",
    "\n",
    "sss = StratifiedShuffleSplit(n_splits=1, test_size=0.2, random_state=0)\n",
    "for train_index, test_index in sss.split(asteroids_X, asteroids_Y):\n",
    "    X_train, X_test = asteroids_X[train_index], asteroids_X[test_index]\n",
    "    Y_train, Y_test = asteroids_Y[train_index], asteroids_Y[test_index]\n",
    "\n",
    "# Define class weights based on ratios of 1 to 0\n",
    "positive_class_weight = int(1.0 / (np.sum(Y_train) / len (Y_train)))\n",
    "print(positive_class_weight)"
   ]
  },
  {
   "cell_type": "code",
   "execution_count": 52,
   "id": "b94af783-a85a-474f-badd-c11fdd6bb746",
   "metadata": {},
   "outputs": [
    {
     "data": {
      "text/html": [
       "<style>#sk-container-id-2 {color: black;}#sk-container-id-2 pre{padding: 0;}#sk-container-id-2 div.sk-toggleable {background-color: white;}#sk-container-id-2 label.sk-toggleable__label {cursor: pointer;display: block;width: 100%;margin-bottom: 0;padding: 0.3em;box-sizing: border-box;text-align: center;}#sk-container-id-2 label.sk-toggleable__label-arrow:before {content: \"▸\";float: left;margin-right: 0.25em;color: #696969;}#sk-container-id-2 label.sk-toggleable__label-arrow:hover:before {color: black;}#sk-container-id-2 div.sk-estimator:hover label.sk-toggleable__label-arrow:before {color: black;}#sk-container-id-2 div.sk-toggleable__content {max-height: 0;max-width: 0;overflow: hidden;text-align: left;background-color: #f0f8ff;}#sk-container-id-2 div.sk-toggleable__content pre {margin: 0.2em;color: black;border-radius: 0.25em;background-color: #f0f8ff;}#sk-container-id-2 input.sk-toggleable__control:checked~div.sk-toggleable__content {max-height: 200px;max-width: 100%;overflow: auto;}#sk-container-id-2 input.sk-toggleable__control:checked~label.sk-toggleable__label-arrow:before {content: \"▾\";}#sk-container-id-2 div.sk-estimator input.sk-toggleable__control:checked~label.sk-toggleable__label {background-color: #d4ebff;}#sk-container-id-2 div.sk-label input.sk-toggleable__control:checked~label.sk-toggleable__label {background-color: #d4ebff;}#sk-container-id-2 input.sk-hidden--visually {border: 0;clip: rect(1px 1px 1px 1px);clip: rect(1px, 1px, 1px, 1px);height: 1px;margin: -1px;overflow: hidden;padding: 0;position: absolute;width: 1px;}#sk-container-id-2 div.sk-estimator {font-family: monospace;background-color: #f0f8ff;border: 1px dotted black;border-radius: 0.25em;box-sizing: border-box;margin-bottom: 0.5em;}#sk-container-id-2 div.sk-estimator:hover {background-color: #d4ebff;}#sk-container-id-2 div.sk-parallel-item::after {content: \"\";width: 100%;border-bottom: 1px solid gray;flex-grow: 1;}#sk-container-id-2 div.sk-label:hover label.sk-toggleable__label {background-color: #d4ebff;}#sk-container-id-2 div.sk-serial::before {content: \"\";position: absolute;border-left: 1px solid gray;box-sizing: border-box;top: 0;bottom: 0;left: 50%;z-index: 0;}#sk-container-id-2 div.sk-serial {display: flex;flex-direction: column;align-items: center;background-color: white;padding-right: 0.2em;padding-left: 0.2em;position: relative;}#sk-container-id-2 div.sk-item {position: relative;z-index: 1;}#sk-container-id-2 div.sk-parallel {display: flex;align-items: stretch;justify-content: center;background-color: white;position: relative;}#sk-container-id-2 div.sk-item::before, #sk-container-id-2 div.sk-parallel-item::before {content: \"\";position: absolute;border-left: 1px solid gray;box-sizing: border-box;top: 0;bottom: 0;left: 50%;z-index: -1;}#sk-container-id-2 div.sk-parallel-item {display: flex;flex-direction: column;z-index: 1;position: relative;background-color: white;}#sk-container-id-2 div.sk-parallel-item:first-child::after {align-self: flex-end;width: 50%;}#sk-container-id-2 div.sk-parallel-item:last-child::after {align-self: flex-start;width: 50%;}#sk-container-id-2 div.sk-parallel-item:only-child::after {width: 0;}#sk-container-id-2 div.sk-dashed-wrapped {border: 1px dashed gray;margin: 0 0.4em 0.5em 0.4em;box-sizing: border-box;padding-bottom: 0.4em;background-color: white;}#sk-container-id-2 div.sk-label label {font-family: monospace;font-weight: bold;display: inline-block;line-height: 1.2em;}#sk-container-id-2 div.sk-label-container {text-align: center;}#sk-container-id-2 div.sk-container {/* jupyter's `normalize.less` sets `[hidden] { display: none; }` but bootstrap.min.css set `[hidden] { display: none !important; }` so we also need the `!important` here to be able to override the default hidden behavior on the sphinx rendered scikit-learn.org. See: https://github.com/scikit-learn/scikit-learn/issues/21755 */display: inline-block !important;position: relative;}#sk-container-id-2 div.sk-text-repr-fallback {display: none;}</style><div id=\"sk-container-id-2\" class=\"sk-top-container\"><div class=\"sk-text-repr-fallback\"><pre>SVC(C=100, class_weight={1: 5})</pre><b>In a Jupyter environment, please rerun this cell to show the HTML representation or trust the notebook. <br />On GitHub, the HTML representation is unable to render, please try loading this page with nbviewer.org.</b></div><div class=\"sk-container\" hidden><div class=\"sk-item\"><div class=\"sk-estimator sk-toggleable\"><input class=\"sk-toggleable__control sk-hidden--visually\" id=\"sk-estimator-id-2\" type=\"checkbox\" checked><label for=\"sk-estimator-id-2\" class=\"sk-toggleable__label sk-toggleable__label-arrow\">SVC</label><div class=\"sk-toggleable__content\"><pre>SVC(C=100, class_weight={1: 5})</pre></div></div></div></div></div>"
      ],
      "text/plain": [
       "SVC(C=100, class_weight={1: 5})"
      ]
     },
     "execution_count": 52,
     "metadata": {},
     "output_type": "execute_result"
    }
   ],
   "source": [
    "# Create and train the SVM \n",
    "from sklearn import preprocessing \n",
    "\n",
    "# Scale the data to weight dimensions equally\n",
    "scaler = preprocessing.StandardScaler().fit(X_train) \n",
    "X_train_scaled = scaler.transform(X_train) # Is this really needed, considering every dimension has the same order of magnitude (reflectance)?\n",
    "\n",
    "from sklearn import svm \n",
    "\n",
    "wclf = svm.SVC(kernel=\"rbf\", class_weight={1:positive_class_weight}, C=100) # A regularization parameter of 100?\n",
    "wclf.fit(X_train_scaled, Y_train)"
   ]
  },
  {
   "cell_type": "code",
   "execution_count": 53,
   "id": "430fab84-d10a-43f8-90df-0fb3ff454841",
   "metadata": {},
   "outputs": [],
   "source": [
    "# Test the fit on the test sample \n",
    "X_test_scaled = scaler.transform(X_test)\n",
    "Y_test_pred = wclf.predict(X_test_scaled)"
   ]
  },
  {
   "cell_type": "code",
   "execution_count": 57,
   "id": "6e39eb5e-8489-47bb-9f94-7e730d8f0dd5",
   "metadata": {},
   "outputs": [
    {
     "name": "stdout",
     "output_type": "stream",
     "text": [
      "[[217   4]\n",
      " [  2  45]]\n",
      "(0.9183673469387755, 0.9574468085106383, 0.9375000000000001, None)\n"
     ]
    }
   ],
   "source": [
    "# Track the performance using various metrics \n",
    "from sklearn.metrics import confusion_matrix\n",
    "\n",
    "# Create a confusion matrix\n",
    "conf_mat = confusion_matrix(Y_test, Y_test_pred)\n",
    "print(conf_mat)\n",
    "\n",
    "# Track the precision, recall, and f1_score\n",
    "scores = sklearn.metrics.precision_recall_fscore_support(Y_test, Y_test_pred, average='binary')\n",
    "print(scores)"
   ]
  },
  {
   "cell_type": "code",
   "execution_count": 63,
   "id": "6c44c5e5-1c09-48a7-a19e-b03d48fa09c1",
   "metadata": {},
   "outputs": [
    {
     "name": "stdout",
     "output_type": "stream",
     "text": [
      "[[912 190]\n",
      " [190  47]]\n",
      "(0.19831223628691982, 0.19831223628691982, 0.19831223628691982, None)\n"
     ]
    }
   ],
   "source": [
    "# Create a naive baseline based on a random shuffle \n",
    "asteroids_random_y = asteroids_Y.copy()\n",
    "np.random.shuffle(asteroids_random_y)\n",
    "\n",
    "conf_mat = confusion_matrix(asteroids_Y, asteroids_random_y)\n",
    "print(conf_mat)\n",
    "\n",
    "random_scores = sklearn.metrics.precision_recall_fscore_support(asteroids_Y, asteroids_random_y, average='binary') \n",
    "print(random_scores) # Recall is the same as precision, interesting..."
   ]
  },
  {
   "cell_type": "code",
   "execution_count": null,
   "id": "8e8108f8-ceeb-4a2a-ba20-cff8fe9cf3ad",
   "metadata": {},
   "outputs": [],
   "source": []
  }
 ],
 "metadata": {
  "kernelspec": {
   "display_name": "Python 3 (ipykernel)",
   "language": "python",
   "name": "python3"
  },
  "language_info": {
   "codemirror_mode": {
    "name": "ipython",
    "version": 3
   },
   "file_extension": ".py",
   "mimetype": "text/x-python",
   "name": "python",
   "nbconvert_exporter": "python",
   "pygments_lexer": "ipython3",
   "version": "3.8.16"
  }
 },
 "nbformat": 4,
 "nbformat_minor": 5
}
