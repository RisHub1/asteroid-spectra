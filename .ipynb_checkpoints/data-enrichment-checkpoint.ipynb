{
 "cells": [
  {
   "cell_type": "code",
   "execution_count": 12,
   "metadata": {},
   "outputs": [],
   "source": [
    "import pandas as pd"
   ]
  },
  {
   "cell_type": "code",
   "execution_count": 13,
   "metadata": {},
   "outputs": [],
   "source": [
    "asteroids_df = pd.read_pickle(\"data/lvl1/asteroids_merged.pkl\")"
   ]
  },
  {
   "cell_type": "code",
   "execution_count": 14,
   "metadata": {},
   "outputs": [],
   "source": [
    "# The Bus Class used in the SMASS data has too many classes for us to classify with machine learning\n",
    "# We can map the various classes to the four classes in main group using this dictionary \n",
    "bus_to_main_dict = {\n",
    "                    'A': 'Other',\n",
    "                    'B': 'C',\n",
    "                    'C': 'C',\n",
    "                    'Cb': 'C',\n",
    "                    'Cg': 'C',\n",
    "                    'Cgh': 'C',\n",
    "                    'Ch': 'C',\n",
    "                    'D': 'Other',\n",
    "                    'K': 'Other',\n",
    "                    'L': 'Other',\n",
    "                    'Ld': 'Other',\n",
    "                    'O': 'Other',\n",
    "                    'R': 'Other',\n",
    "                    'S': 'S',\n",
    "                    'Sa': 'S',\n",
    "                    'Sk': 'S',\n",
    "                    'Sl': 'S',\n",
    "                    'Sq': 'S',\n",
    "                    'Sr': 'S',\n",
    "                    'T': 'Other',\n",
    "                    'V': 'Other',\n",
    "                    'X': 'X',\n",
    "                    'Xc': 'X',\n",
    "                    'Xe': 'X',\n",
    "                    'Xk': 'X'\n",
    "                   }"
   ]
  },
  {
   "cell_type": "code",
   "execution_count": 15,
   "metadata": {},
   "outputs": [
    {
     "name": "stdout",
     "output_type": "stream",
     "text": [
      "Main_Group\n",
      "S        549\n",
      "C        396\n",
      "X        237\n",
      "Other    157\n",
      "Name: count, dtype: int64\n"
     ]
    }
   ],
   "source": [
    "# We now map the bus class to the main class \n",
    "asteroids_df.loc[:, \"Main_Group\"] = asteroids_df[\"Bus_Class\"].apply(lambda x: bus_to_main_dict.get(x, \"None\"))\n",
    "print(asteroids_df[\"Main_Group\"].value_counts())"
   ]
  },
  {
   "cell_type": "code",
   "execution_count": null,
   "metadata": {},
   "outputs": [],
   "source": []
  }
 ],
 "metadata": {
  "kernelspec": {
   "display_name": "Python 3 (ipykernel)",
   "language": "python",
   "name": "python3"
  },
  "language_info": {
   "codemirror_mode": {
    "name": "ipython",
    "version": 3
   },
   "file_extension": ".py",
   "mimetype": "text/x-python",
   "name": "python",
   "nbconvert_exporter": "python",
   "pygments_lexer": "ipython3",
   "version": "3.8.16"
  }
 },
 "nbformat": 4,
 "nbformat_minor": 2
}
