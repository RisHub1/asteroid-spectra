{
 "cells": [
  {
   "cell_type": "code",
   "execution_count": 123,
   "metadata": {},
   "outputs": [],
   "source": [
    "import glob # Lets you use glob searching for directories and files\n",
    "import os\n",
    "import pathlib\n",
    "import re # Regular expression library\n",
    "\n",
    "import pandas as pd"
   ]
  },
  {
   "cell_type": "code",
   "execution_count": 124,
   "metadata": {},
   "outputs": [],
   "source": [
    "# Grabs all the spfit files from the zipped asteroid data file. \n",
    "# Spfit files contain the normalized reflectance values at every 10 nanometers of wavelength\n",
    "core_path = \"/Users/rishabhranjan/GoogleDrive/Professional/Projects/asteroid-spectra\"\n",
    "spectra_filepaths = sorted(glob.glob(\"data/lvl0/smass2/*spfit*\")) "
   ]
  },
  {
   "cell_type": "code",
   "execution_count": 125,
   "metadata": {
    "scrolled": true
   },
   "outputs": [
    {
     "name": "stdout",
     "output_type": "stream",
     "text": [
      "                                FilePath  DesNr\n",
      "0     data/lvl0/smass2/a000001.spfit.[2]      1\n",
      "1     data/lvl0/smass2/a000002.spfit.[2]      2\n",
      "2     data/lvl0/smass2/a000003.spfit.[2]      3\n",
      "3     data/lvl0/smass2/a000004.spfit.[2]      4\n",
      "4     data/lvl0/smass2/a000005.spfit.[2]      5\n",
      "...                                  ...    ...\n",
      "1328  data/lvl0/smass2/a011785.spfit.[2]  11785\n",
      "1329  data/lvl0/smass2/a011906.spfit.[2]  11906\n",
      "1330  data/lvl0/smass2/a012281.spfit.[2]  12281\n",
      "1331  data/lvl0/smass2/a017480.spfit.[2]  17480\n",
      "1332  data/lvl0/smass2/a018514.spfit.[2]  18514\n",
      "\n",
      "[1333 rows x 2 columns]\n"
     ]
    }
   ],
   "source": [
    "# Adds the filepaths to a pandas dataframe\n",
    "des_file_paths = spectra_filepaths[:-8]\n",
    "non_file_paths = spectra_filepaths[-8:] # The last 8 spfit entries do not have designated asteroid numbers, and are treated differently\n",
    "\n",
    "des_file_paths_df = pd.DataFrame(des_file_paths, columns=[\"FilePath\"])\n",
    "non_file_paths_df = pd.DataFrame(non_file_paths, columns=[\"FilePath\"])\n",
    "\n",
    "des_file_paths_df.loc[:, \"DesNr\"] = des_file_paths_df[\"FilePath\"].apply(lambda x: int(re.search(r\"smass2/a(.*).spfit\", x).group(1)))\n",
    "non_file_paths_df.loc[:, \"DesNr\"] = non_file_paths_df[\"FilePath\"].apply(lambda y: re.search(r\"smass2/au(.*).spfit\", y).group(1))\n",
    "print(des_file_paths_df)"
   ]
  },
  {
   "cell_type": "code",
   "execution_count": 126,
   "metadata": {},
   "outputs": [
    {
     "name": "stdout",
     "output_type": "stream",
     "text": [
      "                 Name TholenClass Bus_Class unknown1 unknown2\n",
      "0             1 Ceres           G         C      NaN      NaN\n",
      "1            2 Pallas           B         B      NaN      NaN\n",
      "2              3 Juno           S        Sk      NaN      NaN\n",
      "3             4 Vesta           V         V      NaN      NaN\n",
      "4           5 Astraea           S         S      NaN      NaN\n",
      "...               ...         ...       ...      ...      ...\n",
      "1398  17480 1991 PE10         NaN         S      NaN      NaN\n",
      "1399    17511 1992 QN         NaN         X      NaN      NaN\n",
      "1400  18514 1996 TE11         NaN        Xc      NaN      NaN\n",
      "1401   19356 1997 GH3         NaN         S      NaN      NaN\n",
      "1402   20255 1998 FX2         NaN        Sq      NaN      NaN\n",
      "\n",
      "[1403 rows x 5 columns]\n"
     ]
    }
   ],
   "source": [
    "# Adds the asteroid classification to a pandas dataframe\n",
    "asteroid_class_df = pd.read_csv\\\n",
    "    (\"data/lvl0/Bus.Taxonomy.txt\", skiprows=21, sep=\"\\t\", names=[\"Name\", \"TholenClass\", \"Bus_Class\", \"unknown1\", \"unknown2\"])\n",
    "asteroid_class_df[\"Name\"] = asteroid_class_df[\"Name\"].apply(lambda x: x.strip()) # Remove leading and trailing spaces.\n",
    "\n",
    "des_ast_class_df = asteroid_class_df[:1403].copy()\n",
    "non_ast_class_df = asteroid_class_df[1403:].copy()\n",
    "print(des_ast_class_df)"
   ]
  },
  {
   "cell_type": "code",
   "execution_count": 127,
   "metadata": {},
   "outputs": [
    {
     "name": "stdout",
     "output_type": "stream",
     "text": [
      "                 Name TholenClass Bus_Class unknown1 unknown2  DesNr  \\\n",
      "0             1 Ceres           G         C      NaN      NaN      1   \n",
      "1            2 Pallas           B         B      NaN      NaN      2   \n",
      "2              3 Juno           S        Sk      NaN      NaN      3   \n",
      "3             4 Vesta           V         V      NaN      NaN      4   \n",
      "4           5 Astraea           S         S      NaN      NaN      5   \n",
      "...               ...         ...       ...      ...      ...    ...   \n",
      "1328   11785 1973 AW3         NaN        Xc      NaN      NaN  11785   \n",
      "1329   11906 1992 AE1         NaN        Sq      NaN      NaN  11906   \n",
      "1330   12281 1990 WA5         NaN         X      NaN      NaN  12281   \n",
      "1331  17480 1991 PE10         NaN         S      NaN      NaN  17480   \n",
      "1332  18514 1996 TE11         NaN        Xc      NaN      NaN  18514   \n",
      "\n",
      "                                FilePath  \n",
      "0     data/lvl0/smass2/a000001.spfit.[2]  \n",
      "1     data/lvl0/smass2/a000002.spfit.[2]  \n",
      "2     data/lvl0/smass2/a000003.spfit.[2]  \n",
      "3     data/lvl0/smass2/a000004.spfit.[2]  \n",
      "4     data/lvl0/smass2/a000005.spfit.[2]  \n",
      "...                                  ...  \n",
      "1328  data/lvl0/smass2/a011785.spfit.[2]  \n",
      "1329  data/lvl0/smass2/a011906.spfit.[2]  \n",
      "1330  data/lvl0/smass2/a012281.spfit.[2]  \n",
      "1331  data/lvl0/smass2/a017480.spfit.[2]  \n",
      "1332  data/lvl0/smass2/a018514.spfit.[2]  \n",
      "\n",
      "[1333 rows x 7 columns]\n"
     ]
    }
   ],
   "source": [
    "# Join the asteroid class and filepath dataframes \n",
    "# First grab the destination number from the name, which is what we will be merging on\n",
    "des_ast_class_df.loc[:, \"DesNr\"] = des_ast_class_df[\"Name\"].apply(lambda x: int(x.split(\" \")[0]))\n",
    "des_ast_class_join_df = des_ast_class_df.merge(des_file_paths_df, on=\"DesNr\")\n",
    "# print(des_ast_class_join_df)\n",
    "\n",
    "non_ast_class_df.loc[:, \"DesNr\"] = non_ast_class_df[\"Name\"].apply(lambda x: x.replace(\" \", \"\"))\n",
    "non_ast_class_join_df = non_ast_class_df.merge(non_file_paths_df, on=\"DesNr\")\n",
    "print(des_ast_class_join_df)"
   ]
  },
  {
   "cell_type": "code",
   "execution_count": 128,
   "metadata": {},
   "outputs": [
    {
     "name": "stdout",
     "output_type": "stream",
     "text": [
      "           Name Bus_Class    DesNr                              FilePath\n",
      "0       1 Ceres         C        1    data/lvl0/smass2/a000001.spfit.[2]\n",
      "1      2 Pallas         B        2    data/lvl0/smass2/a000002.spfit.[2]\n",
      "2        3 Juno        Sk        3    data/lvl0/smass2/a000003.spfit.[2]\n",
      "3       4 Vesta         V        4    data/lvl0/smass2/a000004.spfit.[2]\n",
      "4     5 Astraea         S        5    data/lvl0/smass2/a000005.spfit.[2]\n",
      "...         ...       ...      ...                                   ...\n",
      "1336    1996 UK        Sq   1996UK   data/lvl0/smass2/au1996UK.spfit.[2]\n",
      "1337    1996 VC         S   1996VC   data/lvl0/smass2/au1996VC.spfit.[2]\n",
      "1338   1997 CZ5         S  1997CZ5  data/lvl0/smass2/au1997CZ5.spfit.[2]\n",
      "1339   1997 RD1        Sq  1997RD1  data/lvl0/smass2/au1997RD1.spfit.[2]\n",
      "1340    1998 WS        Sr   1998WS   data/lvl0/smass2/au1998WS.spfit.[2]\n",
      "\n",
      "[1339 rows x 4 columns]\n"
     ]
    }
   ],
   "source": [
    "# Now that we have each asteroid class alongisde its spectra filename, we can join and filter them into one dataframe\n",
    "asteroids_df = pd.concat([des_ast_class_join_df, non_ast_class_join_df], ignore_index=True)\n",
    "asteroids_df.drop(labels=[\"TholenClass\", \"unknown1\", \"unknown2\"], axis=1, inplace=True) # Drop columns that don't contain meaningful values\n",
    "asteroids_df.dropna(subset=\"Bus_Class\", inplace=True) # This did not remove anything! There were already 1340 rows before the drop...\n",
    "                                                      # Makes sense though, because the merge was an inner join \n",
    "print(asteroids_df)"
   ]
  },
  {
   "cell_type": "code",
   "execution_count": 129,
   "metadata": {},
   "outputs": [
    {
     "name": "stdout",
     "output_type": "stream",
     "text": [
      "    Wavelength_in_micron  Reflectance_norm550nm\n",
      "0                   0.44                 0.9281\n",
      "1                   0.45                 0.9388\n",
      "2                   0.46                 0.9488\n",
      "3                   0.47                 0.9572\n",
      "4                   0.48                 0.9643\n",
      "5                   0.49                 0.9716\n",
      "6                   0.50                 0.9788\n",
      "7                   0.51                 0.9859\n",
      "8                   0.52                 0.9923\n",
      "9                   0.53                 0.9955\n",
      "10                  0.54                 0.9969\n",
      "11                  0.55                 1.0000\n",
      "12                  0.56                 1.0040\n",
      "13                  0.57                 1.0056\n",
      "14                  0.58                 1.0037\n",
      "15                  0.59                 1.0036\n",
      "16                  0.60                 1.0044\n",
      "17                  0.61                 1.0071\n",
      "18                  0.62                 1.0107\n",
      "19                  0.63                 1.0113\n",
      "20                  0.64                 1.0117\n",
      "21                  0.65                 1.0127\n",
      "22                  0.66                 1.0128\n",
      "23                  0.67                 1.0124\n",
      "24                  0.68                 1.0151\n",
      "25                  0.69                 1.0160\n",
      "26                  0.70                 1.0146\n",
      "27                  0.71                 1.0178\n",
      "28                  0.72                 1.0222\n",
      "29                  0.73                 1.0216\n",
      "30                  0.74                 1.0191\n",
      "31                  0.75                 1.0179\n",
      "32                  0.76                 1.0167\n",
      "33                  0.77                 1.0149\n",
      "34                  0.78                 1.0161\n",
      "35                  0.79                 1.0176\n",
      "36                  0.80                 1.0178\n",
      "37                  0.81                 1.0196\n",
      "38                  0.82                 1.0200\n",
      "39                  0.83                 1.0164\n",
      "40                  0.84                 1.0135\n",
      "41                  0.85                 1.0140\n",
      "42                  0.86                 1.0147\n",
      "43                  0.87                 1.0151\n",
      "44                  0.88                 1.0142\n",
      "45                  0.89                 1.0146\n",
      "46                  0.90                 1.0165\n",
      "47                  0.91                 1.0181\n",
      "48                  0.92                 1.0200\n"
     ]
    }
   ],
   "source": [
    "# Read out the spectrum data into another dataframe, which can be added as a column\n",
    "asteroids_df.loc[:, \"SpectrumDF\"] = asteroids_df[\"FilePath\"].apply\\\n",
    "                                    (lambda x: pd.read_csv(x, sep=\"\\t\", \n",
    "                                    names=[\"Wavelength_in_micron\", \"Reflectance_norm550nm\"]))\n",
    "asteroids_df.loc[\"DesNr\"] = asteroids_df[\"DesNr\"].astype(str)\n",
    "print(asteroids_df[\"SpectrumDF\"].iloc[0])\n"
   ]
  },
  {
   "cell_type": "code",
   "execution_count": 130,
   "metadata": {},
   "outputs": [],
   "source": [
    "# We can save this dataframe by pickling it into our data folder \n",
    "asteroids_df.to_pickle(\"data/lvl1/asteroids_merged.pkl\")"
   ]
  },
  {
   "cell_type": "code",
   "execution_count": null,
   "metadata": {},
   "outputs": [],
   "source": []
  }
 ],
 "metadata": {
  "kernelspec": {
   "display_name": "Python 3 (ipykernel)",
   "language": "python",
   "name": "python3"
  },
  "language_info": {
   "codemirror_mode": {
    "name": "ipython",
    "version": 3
   },
   "file_extension": ".py",
   "mimetype": "text/x-python",
   "name": "python",
   "nbconvert_exporter": "python",
   "pygments_lexer": "ipython3",
   "version": "3.8.16"
  }
 },
 "nbformat": 4,
 "nbformat_minor": 2
}
