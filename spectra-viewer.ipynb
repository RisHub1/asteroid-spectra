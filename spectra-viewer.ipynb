{
 "cells": [
  {
   "cell_type": "code",
   "execution_count": 1,
   "metadata": {},
   "outputs": [],
   "source": [
    "import ipywidgets\n",
    "from matplotlib import pyplot as plt\n",
    "import pandas as pd"
   ]
  },
  {
   "cell_type": "code",
   "execution_count": 2,
   "metadata": {},
   "outputs": [],
   "source": [
    "asteroids_df = pd.read_pickle(\"data/lvl2/asteroids.pkl\")"
   ]
  },
  {
   "cell_type": "code",
   "execution_count": 3,
   "metadata": {},
   "outputs": [
    {
     "data": {
      "application/vnd.jupyter.widget-view+json": {
       "model_id": "3c167f1ab9624cafa23f7273159ceb71",
       "version_major": 2,
       "version_minor": 0
      },
      "text/plain": [
       "interactive(children=(Dropdown(description='top_class', options=('Main_Group', 'Bus_Class'), value='Main_Group…"
      ]
     },
     "execution_count": 3,
     "metadata": {},
     "output_type": "execute_result"
    }
   ],
   "source": [
    "# Creating an interactive spectra viewer\n",
    "\n",
    "# Dropdown menu for widgets\n",
    "top_class_widget = ipywidgets.Dropdown(options=[\"Main_Group\", \"Bus_Class\"]) \n",
    "sub_class_widget = ipywidgets.Dropdown()\n",
    "\n",
    "# Update the sub class options whenever a new top class is chosen\n",
    "def update_sub_class(*args):\n",
    "    sub_class_widget.options = sorted(asteroids_df[top_class_widget.value].unique())\n",
    "    \n",
    "top_class_widget.observe(update_sub_class) # Any dynamic changes to top class will trigger the update function\n",
    "\n",
    "# The function to plot all spectra that fit a certain class\n",
    "def plot_single_spec(top_class, sub_class, ylim_fixed): \n",
    "\n",
    "    # Set the background and figure size\n",
    "    plt.style.use(\"dark_background\")\n",
    "    plt.rc(\"font\", family=\"serif\", size=18)\n",
    "    plt.figure(figsize=(20, 8))\n",
    "    \n",
    "    # Grab the dataframe that contains only rows that have the matching subclass\n",
    "    asteroids_filtered_df = asteroids_df.loc[asteroids_df[top_class] == sub_class]\n",
    "\n",
    "    num_spectra = float(len(asteroids_filtered_df))\n",
    "    print(f\"Number of ({top_class}) {sub_class} spectra: {num_spectra}\")\n",
    "\n",
    "    if (num_spectra > 10):\n",
    "        num_spectra = 10\n",
    "\n",
    "    # Plot each spectral line on a graph\n",
    "    for _, row in asteroids_filtered_df.iterrows(): \n",
    "        plt.plot(row[\"SpectrumDF\"][\"Wavelength_in_microm\"], row[\"SpectrumDF\"][\"Reflectance_norm550nm\"],\n",
    "                 color=\"#ccebc4\", alpha=1.0/num_spectra)\n",
    "\n",
    "    # Adjust the styling of the graph\n",
    "    plt.xlabel(\"Wavelength (micrometers)\")\n",
    "    plt.ylabel(\"Reflectance (normalized to 550 nm)\")\n",
    "    plt.grid(linestyle=\"--\", alpha=0.3)\n",
    "    plt.xlim(0.44, 0.92)\n",
    "\n",
    "    if ylim_fixed: \n",
    "        plt.ylim(0.5, 1.5)\n",
    "        \n",
    "    plt.show()\n",
    "\n",
    "# Display the widgets\n",
    "ipywidgets.interactive(plot_single_spec, top_class=top_class_widget, sub_class=sub_class_widget, ylim_fixed=False)\n",
    "\n"
   ]
  },
  {
   "cell_type": "code",
   "execution_count": 5,
   "metadata": {},
   "outputs": [
    {
     "data": {
      "text/html": [
       "<div>\n",
       "<style scoped>\n",
       "    .dataframe tbody tr th:only-of-type {\n",
       "        vertical-align: middle;\n",
       "    }\n",
       "\n",
       "    .dataframe tbody tr th {\n",
       "        vertical-align: top;\n",
       "    }\n",
       "\n",
       "    .dataframe thead th {\n",
       "        text-align: right;\n",
       "    }\n",
       "</style>\n",
       "<table border=\"1\" class=\"dataframe\">\n",
       "  <thead>\n",
       "    <tr style=\"text-align: right;\">\n",
       "      <th></th>\n",
       "      <th>Main_Group</th>\n",
       "      <th>Bus_Class</th>\n",
       "    </tr>\n",
       "  </thead>\n",
       "  <tbody>\n",
       "    <tr>\n",
       "      <th>count</th>\n",
       "      <td>1339</td>\n",
       "      <td>1339</td>\n",
       "    </tr>\n",
       "    <tr>\n",
       "      <th>unique</th>\n",
       "      <td>4</td>\n",
       "      <td>25</td>\n",
       "    </tr>\n",
       "    <tr>\n",
       "      <th>top</th>\n",
       "      <td>S</td>\n",
       "      <td>S</td>\n",
       "    </tr>\n",
       "    <tr>\n",
       "      <th>freq</th>\n",
       "      <td>549</td>\n",
       "      <td>383</td>\n",
       "    </tr>\n",
       "  </tbody>\n",
       "</table>\n",
       "</div>"
      ],
      "text/plain": [
       "       Main_Group Bus_Class\n",
       "count        1339      1339\n",
       "unique          4        25\n",
       "top             S         S\n",
       "freq          549       383"
      ]
     },
     "execution_count": 5,
     "metadata": {},
     "output_type": "execute_result"
    }
   ],
   "source": [
    "# Some statistics for our dataframe to create context for our classification analysis \n",
    "asteroids_df[[\"Main_Group\", \"Bus_Class\"]].describe()"
   ]
  },
  {
   "cell_type": "code",
   "execution_count": 11,
   "metadata": {},
   "outputs": [
    {
     "data": {
      "text/plain": [
       "Main_Group  Bus_Class\n",
       "C           B             60\n",
       "            C            141\n",
       "            Cb            33\n",
       "            Cg             9\n",
       "            Cgh           15\n",
       "            Ch           138\n",
       "Other       A             16\n",
       "            D              9\n",
       "            K             31\n",
       "            L             34\n",
       "            Ld            13\n",
       "            O              1\n",
       "            R              4\n",
       "            T             14\n",
       "            V             35\n",
       "S           S            383\n",
       "            Sa            34\n",
       "            Sk            16\n",
       "            Sl            49\n",
       "            Sq            52\n",
       "            Sr            15\n",
       "X           X            110\n",
       "            Xc            60\n",
       "            Xe            28\n",
       "            Xk            39\n",
       "Name: Bus_Class, dtype: int64"
      ]
     },
     "execution_count": 11,
     "metadata": {},
     "output_type": "execute_result"
    }
   ],
   "source": [
    "asteroids_df.groupby([\"Main_Group\", \"Bus_Class\"])[\"Bus_Class\"].agg(\"count\")"
   ]
  },
  {
   "cell_type": "code",
   "execution_count": 13,
   "metadata": {},
   "outputs": [
    {
     "data": {
      "text/plain": [
       "Main_Group\n",
       "C        396\n",
       "Other    157\n",
       "S        549\n",
       "X        237\n",
       "Name: Main_Group, dtype: int64"
      ]
     },
     "execution_count": 13,
     "metadata": {},
     "output_type": "execute_result"
    }
   ],
   "source": [
    "asteroids_df.groupby([\"Main_Group\"])[\"Main_Group\"].agg(\"count\")"
   ]
  },
  {
   "cell_type": "code",
   "execution_count": null,
   "metadata": {},
   "outputs": [],
   "source": []
  }
 ],
 "metadata": {
  "kernelspec": {
   "display_name": "Python 3 (ipykernel)",
   "language": "python",
   "name": "python3"
  },
  "language_info": {
   "codemirror_mode": {
    "name": "ipython",
    "version": 3
   },
   "file_extension": ".py",
   "mimetype": "text/x-python",
   "name": "python",
   "nbconvert_exporter": "python",
   "pygments_lexer": "ipython3",
   "version": "3.8.16"
  }
 },
 "nbformat": 4,
 "nbformat_minor": 4
}
